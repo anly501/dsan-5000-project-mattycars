{
 "cells": [
  {
   "cell_type": "markdown",
   "metadata": {},
   "source": [
    "# Classification of Podium Finishing at HKJC\n",
    "In this section, we will be generating a Categorical Naive Bayes Model that attempts to predict whether a horse finishes on the podium (1st place, 2nd place, or 3rd place) in any given race. Predicting podium finishes is a giant portion of the HKJC betting market. This model will hopefully serve as the basis for making more complex predictions later on in this project."
   ]
  },
  {
   "cell_type": "code",
   "execution_count": 1,
   "metadata": {},
   "outputs": [],
   "source": [
    "import pandas as pd\n",
    "import numpy as np\n",
    "import scipy\n",
    "import sklearn \n",
    "import seaborn as sns"
   ]
  },
  {
   "cell_type": "code",
   "execution_count": 3,
   "metadata": {},
   "outputs": [
    {
     "name": "stderr",
     "output_type": "stream",
     "text": [
      "/tmp/ipykernel_202120/2292367370.py:3: DtypeWarning: Columns (9,17,24,25,26,27,28,29) have mixed types. Specify dtype option on import or set low_memory=False.\n",
      "  perf = pd.read_csv('../../../data/01-modified-data/perf.clean.csv')\n"
     ]
    }
   ],
   "source": [
    "# Reading in our data\n",
    "horses = pd.read_csv('../../../data/01-modified-data/horses.clean.csv')\n",
    "perf = pd.read_csv('../../../data/01-modified-data/perf.clean.csv')"
   ]
  },
  {
   "cell_type": "markdown",
   "metadata": {},
   "source": [
    "We are now going to join horse attributes from the horses data set with the performance dataset."
   ]
  },
  {
   "cell_type": "code",
   "execution_count": 8,
   "metadata": {},
   "outputs": [],
   "source": [
    "# Need to join color, sex, and import type with perf data. Then, create a race_length variable, along with a column that outputs 1 or 0 for podium finish.\n",
    "# Data can then be cleaned to only include features of interest.\n",
    "\n",
    "perf_clean = pd.merge(perf,horses[[\"horse_id\",\"colour\",\"sex\",\"import_type\"]],on=\"horse_id\",how = \"inner\")"
   ]
  },
  {
   "cell_type": "markdown",
   "metadata": {},
   "source": [
    "Now we are going to create a variable \"podium\" that is equal to 1 if a horse placed in the top 3 and 0 if it did not. This variable is what we will be trying to classify with a Bernoulli Naive Bayes Classifier."
   ]
  },
  {
   "cell_type": "code",
   "execution_count": 18,
   "metadata": {},
   "outputs": [
    {
     "name": "stderr",
     "output_type": "stream",
     "text": [
      "/tmp/ipykernel_90847/1377842129.py:6: SettingWithCopyWarning: \n",
      "A value is trying to be set on a copy of a slice from a DataFrame\n",
      "\n",
      "See the caveats in the documentation: https://pandas.pydata.org/pandas-docs/stable/user_guide/indexing.html#returning-a-view-versus-a-copy\n",
      "  perf_clean['podium'][i] = 0\n",
      "/tmp/ipykernel_90847/1377842129.py:4: SettingWithCopyWarning: \n",
      "A value is trying to be set on a copy of a slice from a DataFrame\n",
      "\n",
      "See the caveats in the documentation: https://pandas.pydata.org/pandas-docs/stable/user_guide/indexing.html#returning-a-view-versus-a-copy\n",
      "  perf_clean['podium'][i] = 1\n"
     ]
    }
   ],
   "source": [
    "perf_clean['podium'] = np.nan\n",
    "for i in range(len(perf_clean[\"final_placing\"])):   \n",
    "    if perf_clean[\"final_placing\"][i] == 1 or perf_clean[\"final_placing\"][i] == 2 or perf_clean[\"final_placing\"][i] == 3:\n",
    "        perf_clean['podium'][i] = 1\n",
    "    else:\n",
    "        perf_clean['podium'][i] = 0"
   ]
  },
  {
   "cell_type": "markdown",
   "metadata": {},
   "source": [
    "Now we will create a subset of data with our features of interest. Our features of interest are all of our categorical variables."
   ]
  },
  {
   "cell_type": "code",
   "execution_count": 303,
   "metadata": {},
   "outputs": [],
   "source": [
    "perf_classifier = perf_clean[['podium','colour','sex','import_type','draw','rating']]\n",
    "perf_classifier = perf_classifier.dropna()"
   ]
  },
  {
   "cell_type": "markdown",
   "metadata": {},
   "source": [
    "One important point to note is that we will not be looking at finishing time as a classifier of podium finishing as we want to create a classifier model that can take features related to a horse that can be recorded BEFORE a horse runs a race. Mean or median finishing time at various race distances could be used, but such a measurement is mostly taken into account with the horse rating variable.\n",
    "\n",
    "With our feature set, we must now dummy code our categorical features."
   ]
  },
  {
   "cell_type": "code",
   "execution_count": 305,
   "metadata": {},
   "outputs": [],
   "source": [
    "from sklearn import preprocessing\n",
    "\n",
    "perf_classifier_encode = perf_classifier.loc[:,perf_classifier.columns != 'draw']\n",
    "\n",
    "perf_classifier_encode = perf_classifier_encode.apply(preprocessing.LabelEncoder().fit_transform)\n",
    "perf_classifier_encode = pd.DataFrame(perf_classifier_encode)\n",
    "perf_classifier_encode['draw'] = perf_classifier['draw']"
   ]
  },
  {
   "cell_type": "code",
   "execution_count": 306,
   "metadata": {},
   "outputs": [
    {
     "data": {
      "text/html": [
       "<div>\n",
       "<style scoped>\n",
       "    .dataframe tbody tr th:only-of-type {\n",
       "        vertical-align: middle;\n",
       "    }\n",
       "\n",
       "    .dataframe tbody tr th {\n",
       "        vertical-align: top;\n",
       "    }\n",
       "\n",
       "    .dataframe thead th {\n",
       "        text-align: right;\n",
       "    }\n",
       "</style>\n",
       "<table border=\"1\" class=\"dataframe\">\n",
       "  <thead>\n",
       "    <tr style=\"text-align: right;\">\n",
       "      <th></th>\n",
       "      <th>podium</th>\n",
       "      <th>colour</th>\n",
       "      <th>sex</th>\n",
       "      <th>import_type</th>\n",
       "      <th>rating</th>\n",
       "      <th>draw</th>\n",
       "    </tr>\n",
       "  </thead>\n",
       "  <tbody>\n",
       "    <tr>\n",
       "      <th>0</th>\n",
       "      <td>0</td>\n",
       "      <td>0</td>\n",
       "      <td>3</td>\n",
       "      <td>1</td>\n",
       "      <td>72</td>\n",
       "      <td>13</td>\n",
       "    </tr>\n",
       "    <tr>\n",
       "      <th>1</th>\n",
       "      <td>0</td>\n",
       "      <td>0</td>\n",
       "      <td>3</td>\n",
       "      <td>1</td>\n",
       "      <td>72</td>\n",
       "      <td>6</td>\n",
       "    </tr>\n",
       "    <tr>\n",
       "      <th>2</th>\n",
       "      <td>0</td>\n",
       "      <td>0</td>\n",
       "      <td>3</td>\n",
       "      <td>1</td>\n",
       "      <td>71</td>\n",
       "      <td>1</td>\n",
       "    </tr>\n",
       "  </tbody>\n",
       "</table>\n",
       "</div>"
      ],
      "text/plain": [
       "   podium  colour  sex  import_type  rating  draw\n",
       "0       0       0    3            1      72    13\n",
       "1       0       0    3            1      72     6\n",
       "2       0       0    3            1      71     1"
      ]
     },
     "execution_count": 306,
     "metadata": {},
     "output_type": "execute_result"
    }
   ],
   "source": [
    "perf_classifier_encode.head(3)"
   ]
  },
  {
   "cell_type": "markdown",
   "metadata": {},
   "source": [
    "## Feature Selection for Categorical Naive Bayes"
   ]
  },
  {
   "cell_type": "markdown",
   "metadata": {},
   "source": [
    "Now we will define our feature set, which is all categorical variables, and dependent variable, y (podium)."
   ]
  },
  {
   "cell_type": "code",
   "execution_count": 358,
   "metadata": {},
   "outputs": [],
   "source": [
    "x = np.array(perf_classifier_encode.loc[:, perf_classifier_encode.columns != 'podium'])\n",
    "y = np.array([perf_classifier_encode['podium']])\n",
    "y = y.transpose()"
   ]
  },
  {
   "cell_type": "code",
   "execution_count": 359,
   "metadata": {},
   "outputs": [
    {
     "name": "stdout",
     "output_type": "stream",
     "text": [
      "[243971, 123028, 239970, 216575, 81417, 210381, 153151, 254241, 42824, 62997]\n",
      "[173331, 19509, 189987, 34654, 75458, 249089, 157753, 135303, 62237, 117088]\n",
      "[13276, 174962, 18244, 266141, 103888, 205188, 29317, 126834, 6504, 252353]\n"
     ]
    }
   ],
   "source": [
    "import random\n",
    "N=x.shape[0]\n",
    "l = [*range(N)]     # indices\n",
    "cut = int(0.8 * N) #80% of the list\n",
    "cut2 = int((N - cut)/2 + cut)\n",
    "random.shuffle(l)   # randomize\n",
    "train_index = l[:cut] # first 80% of shuffled list\n",
    "validate_index = l[cut:cut2] # 10% of shuffled list\n",
    "test_index = l[cut2:] # 10% of shuffled list\n",
    "\n",
    "print(train_index[0:10])\n",
    "print(validate_index[0:10])\n",
    "print(test_index[0:10])"
   ]
  },
  {
   "cell_type": "code",
   "execution_count": 360,
   "metadata": {},
   "outputs": [
    {
     "name": "stdout",
     "output_type": "stream",
     "text": [
      "<class 'numpy.ndarray'> <class 'numpy.ndarray'>\n",
      "(266164, 5) (266164, 1)\n",
      "(266164, 5) (266164, 1)\n",
      "74.81014976682587 74.74922042303791 0.05170540000017354 0.01639709999972183\n"
     ]
    }
   ],
   "source": [
    "from sklearn.naive_bayes import CategoricalNB\n",
    "from sklearn.metrics import accuracy_score\n",
    "import time\n",
    "\n",
    "# Defining a function that generates a NB model\n",
    "def train_CNB_model(X,Y,i_print=False):\n",
    "\n",
    "    if(i_print):\n",
    "        print(X.shape,Y.shape)\n",
    "\n",
    "    #SPLIT\n",
    "    x_train=X[train_index]\n",
    "    y_train=Y[train_index].flatten()\n",
    "\n",
    "    x_test=X[test_index]\n",
    "    y_test=Y[test_index].flatten()\n",
    "\n",
    "    # INITIALIZE MODEL \n",
    "    model = CategoricalNB()\n",
    "\n",
    "    # TRAIN MODEL \n",
    "    start = time.process_time()\n",
    "    model.fit(x_train,y_train)\n",
    "    time_train=time.process_time() - start\n",
    "\n",
    "    # LABEL PREDICTIONS FOR TRAINING AND TEST SET \n",
    "    start = time.process_time()\n",
    "    yp_train = model.predict(x_train)\n",
    "    yp_test = model.predict(x_test)\n",
    "    time_eval=time.process_time() - start\n",
    "\n",
    "    acc_train= accuracy_score(y_train, yp_train)*100\n",
    "    acc_test= accuracy_score(y_test, yp_test)*100\n",
    "\n",
    "    if(i_print):\n",
    "        print(acc_train,acc_test,time_train,time_eval)\n",
    "\n",
    "    return (acc_train,acc_test,time_train,time_eval)\n",
    "\n",
    "\n",
    "#TEST\n",
    "print(type(x),type(y))\n",
    "print(x.shape,y.shape)\n",
    "(acc_train,acc_test,time_train,time_eval)=train_CNB_model(x,y,i_print=True)"
   ]
  },
  {
   "cell_type": "code",
   "execution_count": 361,
   "metadata": {},
   "outputs": [],
   "source": [
    "##UTILITY FUNCTION TO INITIALIZE RELEVANT ARRAYS\n",
    "def initialize_arrays():\n",
    "    global num_features,train_accuracies\n",
    "    global test_accuracies,train_time,eval_time\n",
    "    num_features=[]\n",
    "    train_accuracies=[]\n",
    "    test_accuracies=[]\n",
    "    train_time=[]\n",
    "    eval_time=[]"
   ]
  },
  {
   "cell_type": "code",
   "execution_count": 362,
   "metadata": {},
   "outputs": [
    {
     "name": "stdout",
     "output_type": "stream",
     "text": [
      "1 1 1 74.77351818194626 74.70037945673818\n",
      "2 2 2 74.77351818194626 74.70037945673818\n",
      "3 3 3 74.77351818194626 74.70037945673818\n",
      "4 4 4 74.80263559556852 74.7379494308149\n",
      "5 5 5 74.81014976682587 74.74922042303791\n"
     ]
    }
   ],
   "source": [
    "# INITIALIZE ARRAYS\n",
    "initialize_arrays()\n",
    "\n",
    "# DEFINE SEARCH FUNCTION\n",
    "def partial_grid_search(num_runs, min_index):\n",
    "    for i in range(1, num_runs+1):\n",
    "        # SUBSET FEATURES \n",
    "        upper_index=min_index+i\n",
    "        xtmp=x[:,0:upper_index]\n",
    "\n",
    "        #TRAIN \n",
    "        (acc_train,acc_test,time_train,time_eval)=train_CNB_model(xtmp,y,i_print=False)\n",
    "\n",
    "        \n",
    "        print(i,upper_index,xtmp.shape[1],acc_train,acc_test)\n",
    "            \n",
    "        #RECORD \n",
    "        num_features.append(xtmp.shape[1])\n",
    "        train_accuracies.append(acc_train)\n",
    "        test_accuracies.append(acc_test)\n",
    "        train_time.append(time_train)\n",
    "        eval_time.append(time_eval)\n",
    "\n",
    "# DENSE SEARCH (SMALL NUMBER OF FEATURES (FAST))\n",
    "partial_grid_search(num_runs=5, min_index=0)\n",
    "\n"
   ]
  },
  {
   "cell_type": "code",
   "execution_count": 363,
   "metadata": {},
   "outputs": [
    {
     "data": {
      "image/png": "[encoded data removed]",
      "text/plain": [
       "<Figure size 640x480 with 1 Axes>"
      ]
     },
     "metadata": {},
     "output_type": "display_data"
    },
    {
     "data": {
      "image/png": "[encoded data removed]",
      "text/plain": [
       "<Figure size 640x480 with 1 Axes>"
      ]
     },
     "metadata": {},
     "output_type": "display_data"
    }
   ],
   "source": [
    "import matplotlib.pyplot as plt\n",
    "plt.plot(num_features,train_accuracies,'-or')\n",
    "plt.plot(num_features,test_accuracies,'-ob')\n",
    "plt.xlabel('Number of features')\n",
    "plt.ylabel('ACCURACY: Training (blue) and Test (red)')\n",
    "plt.show()\n",
    "\n",
    "plt.plot(num_features,np.array(train_accuracies)-np.array(test_accuracies),'-or')\n",
    "plt.xlabel('Number of features')\n",
    "plt.ylabel('train_accuracies-test_accuracies')\n",
    "plt.show()"
   ]
  },
  {
   "cell_type": "markdown",
   "metadata": {},
   "source": [
    "We can see that our model becomes more accurate when draw and ranking are added as features, with a larger jump in accuracy when draw is included as a feature."
   ]
  },
  {
   "cell_type": "code",
   "execution_count": 364,
   "metadata": {},
   "outputs": [
    {
     "name": "stdout",
     "output_type": "stream",
     "text": [
      "[[ 3 72 13]\n",
      " [ 3 72  6]\n",
      " [ 3 71  1]\n",
      " ...\n",
      " [ 3 55  5]\n",
      " [ 3 63  1]\n",
      " [ 3 60  7]]\n"
     ]
    }
   ],
   "source": [
    "import itertools\n",
    "best_acc = 0\n",
    "m = x.shape[1]\n",
    "\n",
    "for i in range(1, m + 1):\n",
    "          subset = itertools.combinations(range(m),i)\n",
    "\n",
    "          for j in subset:\n",
    "               x_subset = x[:,j]\n",
    "               (acc_train,acc_test,time_train,time_eval)=train_CNB_model(x_subset,y,i_print=False)\n",
    "\n",
    "               if acc_test > best_acc:\n",
    "                    best_acc = acc_test\n",
    "                    best_subset = x_subset\n",
    "\n",
    "print(best_subset)"
   ]
  },
  {
   "cell_type": "markdown",
   "metadata": {},
   "source": [
    "The best subset of features are sex, rating, and draw.\n",
    "\n",
    "## Fitting a Final, \"Optimal\" NB Model\n",
    "We will now use our subset of features to fit a final NB model. Our training model, consisting of the optimal feature set, will take a split of test data from the original dataset in order to give the model \"unseen\" data with classfication labels we already know, so that we can develop accurate metrics surroudning the performance of our model."
   ]
  },
  {
   "cell_type": "code",
   "execution_count": 322,
   "metadata": {},
   "outputs": [],
   "source": [
    "x = np.array(perf_classifier_encode[['sex','draw','rating']])\n",
    "y = np.array([perf_classifier_encode['podium']])\n",
    "y = y.transpose()"
   ]
  },
  {
   "cell_type": "code",
   "execution_count": 327,
   "metadata": {},
   "outputs": [],
   "source": [
    "import random\n",
    "N=x.shape[0]\n",
    "l = [*range(N)]     # indices\n",
    "cut = int(0.8 * N) #80% of the list\n",
    "cut2 = int((N - cut)/2 + cut)\n",
    "random.shuffle(l)   # randomize\n",
    "train_index = l[:cut] # first 80% of shuffled list\n",
    "validate_index = l[cut:cut2] # 10% of shuffled list\n",
    "test_index = l[cut2:] # 10% of shuffled list"
   ]
  },
  {
   "cell_type": "code",
   "execution_count": 326,
   "metadata": {},
   "outputs": [
    {
     "name": "stdout",
     "output_type": "stream",
     "text": [
      "(266164, 3) (266164, 1)\n",
      "74.83644936622662 74.76049141526092 0.0715845999998237 0.03521339999997508\n"
     ]
    }
   ],
   "source": [
    "(acc_train,acc_test,time_train,time_eval)=train_CNB_model(x,y,i_print=True)"
   ]
  },
  {
   "cell_type": "markdown",
   "metadata": {},
   "source": [
    "We can see above that our model has a test accuracy of 74.83% and has a test accuracy of 74.76% which is fairly strong. Because both our training and test accuracies are very close in magnitude with the test accuracy being slightly larger, we can conclude that our model is definitely not overfit as the test accuracy would be much lower if this were the case. There might be the argument that our model underfits the data because our test accuracy is so close to the train accuracy, and as you will see later, our F-1 score is pretty abysmal. We explore this idea in a little bit."
   ]
  },
  {
   "cell_type": "code",
   "execution_count": 2,
   "metadata": {},
   "outputs": [
    {
     "ename": "NameError",
     "evalue": "name 'x' is not defined",
     "output_type": "error",
     "traceback": [
      "\u001b[0;31m---------------------------------------------------------------------------\u001b[0m",
      "\u001b[0;31mNameError\u001b[0m                                 Traceback (most recent call last)",
      "\u001b[1;32m/home/mcarswell/dsan-5000-project-mattycars/dsan-website/5000-website/dimensionality/Naive Bayes/NBclassifier.ipynb Cell 28\u001b[0m line \u001b[0;36m3\n\u001b[1;32m      <a href='vscode-notebook-cell://wsl%2Bubuntu/home/mcarswell/dsan-5000-project-mattycars/dsan-website/5000-website/dimensionality/Naive%20Bayes/NBclassifier.ipynb#X36sdnNjb2RlLXJlbW90ZQ%3D%3D?line=0'>1</a>\u001b[0m \u001b[39mfrom\u001b[39;00m \u001b[39msklearn\u001b[39;00m\u001b[39m.\u001b[39;00m\u001b[39mmetrics\u001b[39;00m \u001b[39mimport\u001b[39;00m confusion_matrix, ConfusionMatrixDisplay\n\u001b[1;32m      <a href='vscode-notebook-cell://wsl%2Bubuntu/home/mcarswell/dsan-5000-project-mattycars/dsan-website/5000-website/dimensionality/Naive%20Bayes/NBclassifier.ipynb#X36sdnNjb2RlLXJlbW90ZQ%3D%3D?line=1'>2</a>\u001b[0m \u001b[39mfrom\u001b[39;00m \u001b[39msklearn\u001b[39;00m \u001b[39mimport\u001b[39;00m metrics\n\u001b[0;32m----> <a href='vscode-notebook-cell://wsl%2Bubuntu/home/mcarswell/dsan-5000-project-mattycars/dsan-website/5000-website/dimensionality/Naive%20Bayes/NBclassifier.ipynb#X36sdnNjb2RlLXJlbW90ZQ%3D%3D?line=2'>3</a>\u001b[0m x_train\u001b[39m=\u001b[39mx[train_index]\n\u001b[1;32m      <a href='vscode-notebook-cell://wsl%2Bubuntu/home/mcarswell/dsan-5000-project-mattycars/dsan-website/5000-website/dimensionality/Naive%20Bayes/NBclassifier.ipynb#X36sdnNjb2RlLXJlbW90ZQ%3D%3D?line=3'>4</a>\u001b[0m y_train\u001b[39m=\u001b[39my[train_index]\u001b[39m.\u001b[39mflatten()\n\u001b[1;32m      <a href='vscode-notebook-cell://wsl%2Bubuntu/home/mcarswell/dsan-5000-project-mattycars/dsan-website/5000-website/dimensionality/Naive%20Bayes/NBclassifier.ipynb#X36sdnNjb2RlLXJlbW90ZQ%3D%3D?line=5'>6</a>\u001b[0m x_test\u001b[39m=\u001b[39mx[test_index]\n",
      "\u001b[0;31mNameError\u001b[0m: name 'x' is not defined"
     ]
    }
   ],
   "source": [
    "from sklearn.metrics import confusion_matrix, ConfusionMatrixDisplay\n",
    "from sklearn import metrics\n",
    "x_train=x[train_index]\n",
    "y_train=y[train_index].flatten()\n",
    "\n",
    "x_test=x[test_index]\n",
    "y_test=y[test_index].flatten()\n",
    "\n",
    "clf = CategoricalNB()\n",
    "clf.fit(x_train,y_train)\n",
    "\n",
    "yp_test = clf.predict(x_test)\n",
    "cm = confusion_matrix(y_test, yp_test)\n",
    "disp = ConfusionMatrixDisplay(confusion_matrix=cm)\n",
    "disp.plot()\n",
    "plt.show()"
   ]
  },
  {
   "cell_type": "code",
   "execution_count": 1,
   "metadata": {},
   "outputs": [
    {
     "ename": "NameError",
     "evalue": "name 'metrics' is not defined",
     "output_type": "error",
     "traceback": [
      "\u001b[0;31m---------------------------------------------------------------------------\u001b[0m",
      "\u001b[0;31mNameError\u001b[0m                                 Traceback (most recent call last)",
      "\u001b[1;32m/home/mcarswell/dsan-5000-project-mattycars/dsan-website/5000-website/dimensionality/Naive Bayes/NBclassifier.ipynb Cell 29\u001b[0m line \u001b[0;36m1\n\u001b[0;32m----> <a href='vscode-notebook-cell://wsl%2Bubuntu/home/mcarswell/dsan-5000-project-mattycars/dsan-website/5000-website/dimensionality/Naive%20Bayes/NBclassifier.ipynb#X40sdnNjb2RlLXJlbW90ZQ%3D%3D?line=0'>1</a>\u001b[0m Accuracy \u001b[39m=\u001b[39m metrics\u001b[39m.\u001b[39maccuracy_score(y_test, yp_test)\n\u001b[1;32m      <a href='vscode-notebook-cell://wsl%2Bubuntu/home/mcarswell/dsan-5000-project-mattycars/dsan-website/5000-website/dimensionality/Naive%20Bayes/NBclassifier.ipynb#X40sdnNjb2RlLXJlbW90ZQ%3D%3D?line=1'>2</a>\u001b[0m Precision \u001b[39m=\u001b[39m metrics\u001b[39m.\u001b[39mprecision_score(y_test, yp_test)\n\u001b[1;32m      <a href='vscode-notebook-cell://wsl%2Bubuntu/home/mcarswell/dsan-5000-project-mattycars/dsan-website/5000-website/dimensionality/Naive%20Bayes/NBclassifier.ipynb#X40sdnNjb2RlLXJlbW90ZQ%3D%3D?line=2'>3</a>\u001b[0m Sensitivity \u001b[39m=\u001b[39m metrics\u001b[39m.\u001b[39mrecall_score(y_test, yp_test)\n",
      "\u001b[0;31mNameError\u001b[0m: name 'metrics' is not defined"
     ]
    }
   ],
   "source": [
    "Accuracy = metrics.accuracy_score(y_test, yp_test)\n",
    "Precision = metrics.precision_score(y_test, yp_test)\n",
    "Sensitivity = metrics.recall_score(y_test, yp_test)\n",
    "Specificity = metrics.recall_score(y_test, yp_test,pos_label=0)\n",
    "F1_score = metrics.f1_score(y_test, yp_test)\n",
    "print(\"Accuracy:\",Accuracy*100)\n",
    "print(\"Precision:\", Precision*100)\n",
    "print(\"Sensitivity:\",Sensitivity*100)\n",
    "print(\"Specificity:\",Specificity*100)\n",
    "print(\"F1 Score:\",F1_score*100)"
   ]
  },
  {
   "cell_type": "markdown",
   "metadata": {},
   "source": [
    " We can notice a few things. First of all, our model is about 75% accurate which is very strong. At the surface level, our precision is also fairly strong at around 60%. Of the horse podium finishers predicted, our model predicts correctly predicts them as podium finishers 60% of the time. HOWEVER, our confusion matrix shows that our model only predicted 27 out of the over 20,0000 observations as correctly positive podium finishers. We can see in the confusion matrix that the model is REALLY good at predicting non-podium finishers with a specificity of around 99%. This characteristic is not really impressive in practicality, however, as we are really just interested in predicting horse podium finishers. Resultantly, our ability in predicting positive results is very low, with an EXTREMELY low sensitity score. Our F-1 score is also VERY low, showing that this model is overall not very effective at all for predicting horse racing podium finishes. This characteristic is also an indication that our model is very underfitted as we are not capturing all neccessary patterns and behaviors neccessary for correctly prediciting podium finishes."
   ]
  },
  {
   "cell_type": "markdown",
   "metadata": {},
   "source": [
    "## Conclusion\n",
    "Overall, our model is not a great overall tool for predicting horse podium finishers (this might be a little bit of an understatement). What is a valuable takeaway from this exercise, however, is we can very strongly observe what characteristics drive a horse to NOT finsh on the podium. A horse's attributes like color and import type (which delineate what type of horse we are observing) really do not have any impact on the probability a horse has a podium finish. A horse's sex (i.e. if it is a colt, philly, mare, adolescent, or adult) can, however, be used to help inform if a horse will likely not finish on the podium. Rating and draw are the most important features here. Our model is able to show us that given a horse's draw and rating, we can discount its likelihood to finish on the podium if its draw and rating are below a certain threshold. While this threshold is not clearly defined yet, this phenomena does allow us to understand that draw and rating will be important features as we continue to try and predict horse performance with more advanced statistical methods. These findings will be reported in the final conclusive report generated for this project, along with being used as the basis for much of the feature selection as we go forth developing more advanced models in this project."
   ]
  }
 ],
 "metadata": {
  "kernelspec": {
   "display_name": "base",
   "language": "python",
   "name": "python3"
  },
  "language_info": {
   "codemirror_mode": {
    "name": "ipython",
    "version": 3
   },
   "file_extension": ".py",
   "mimetype": "text/x-python",
   "name": "python",
   "nbconvert_exporter": "python",
   "pygments_lexer": "ipython3",
   "version": "3.11.4"
  }
 },
 "nbformat": 4,
 "nbformat_minor": 2
}
