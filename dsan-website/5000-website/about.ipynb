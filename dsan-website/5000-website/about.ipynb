{
 "cells": [
  {
   "cell_type": "markdown",
   "metadata": {},
   "source": [
    "---\n",
    "title: \"About Matt\"\n",
    "---"
   ]
  },
  {
   "cell_type": "markdown",
   "metadata": {},
   "source": [
    ":::: {.columns}\n",
    "::: {.column width=\"40%\"}\n",
    "## A Picture is Worth A Thousand Words\n",
    "\n",
    "![](images/me.png){fig-align=\"left\" width=\"2.8in\"}\n",
    "\n",
    "> \"Me Skydiving in West Point, VA April 2023\n",
    "\n",
    "![](images/scuba.png){fig-align=\"left\" width=\"2.8in\"}\n",
    "\n",
    "> \"75 Feet Under the Ocean in Captain Cook, Hawaii June 2022\n",
    "\n",
    "![](images/snowboard.png){fig-align=\"left\" width=\"2.8in\"}\n",
    "\n",
    "> \"Recovering My Phone After Dropping it Off a Ski Lift in Whistler, BC, Canada January 2023\n",
    "\n",
    ":::\n",
    "::: {.column width=\"60%\"}\n",
    "## Introduction\n",
    "Matt Carswell is currently a first year graduate student in the Data Science and Analytics program at Georgetown University. He concurrently works part-time as a Market Research and Data Analyst at Weris Inc. where he works closely with the Department of Transporation (USDOT) and the Bureau of Transportation Statistics (BTS) as a Data Consultant. One of his most recent projects includes developing a Work Plan for BTS that outlines data and data analysis tools the federal government can provide to local decision-makers that would aid their transportation infrastruce decisions. This report, [*Work Plan to Provide Federal Support for Local Decision-making*](https://rosap.ntl.bts.gov/view/dot/67912), was reviewed by both the Secretary of Transportaion and by members of Congress. \n",
    "\n",
    "Matt graduated in 2022 from the University of Virginia with a BA in Statistics with a concentration in Econometrics and a minor in Economics. Some of his interests include behavioral finance, impact investing, game theory, and leveraging data/statistics in sports handicapping. He intends on graduating at the end of Fall 2024 and find a job in either the impact investing space or sports industry. His lifelong ambition is to create Artifical Intelligence that can produce succesful predicition for any sports handicapping market.\n",
    "\n",
    "## Education\n",
    "- ### Georgetown University June 2023 - December 2024 (exp.)\n",
    "    - MS in Data Science and Analytics\n",
    "    - Attending on a Merit Scholarship\n",
    "    - Notable Classes: Data Science and Analytics, Probability/Statistical Computing, Data Science for a Changing Climate\n",
    "- ### Univeristy of Virginia August 2018 - May 2022\n",
    "    - GPA: 3.6\n",
    "    - BA in Statistics (conc. Econometrics) and a minor in Economics\n",
    "    - Notable Classes: Statistical Machine Learning, Applied Time Series, Behavioral Finance\n",
    "\n",
    "## Academic and Professional Interests\n",
    "\n",
    "Statistics, Economics, Machine Learning, [Impact Investing](https://thegiin.org/impact-investing/need-to-know/), Sports Handicapping, Predictive Analytics\n",
    "\n",
    "## Hobbies\n",
    "Marathon running, Cooking, SCUBA diving, Snowboarding, Skateboarding, Rap and House Music\n",
    "\n",
    "## Socials\n",
    "- [LinkedIn](www.linkedin.com/in/matthew-carswell-7977b3206)\n",
    "- [GitHub](https://github.com/mattycars)\n",
    "\n",
    ":::\n",
    "::::"
   ]
  }
 ],
 "metadata": {
  "language_info": {
   "name": "python"
  },
  "orig_nbformat": 4
 },
 "nbformat": 4,
 "nbformat_minor": 2
}
