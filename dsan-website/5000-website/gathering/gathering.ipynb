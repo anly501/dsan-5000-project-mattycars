{
 "cells": [
  {
   "cell_type": "markdown",
   "metadata": {},
   "source": [
    "---\n",
    "title: \"Data Gathering\"\n",
    "---\n",
    "I will add way more description in the future. For now, this section is just laying down the groundwork.\n",
    "\n",
    "## Data Source\n",
    "While the HKJC offers publicly available data, it is immensely hard to scrape off the web. This was orginally attempted for this project (for, admittedly, too long of a period of a time), but it requires writing code to solve logic and math games set up by the HJKC. They do not mind people using their data, but they do no want an oversaturation of users using their data. There are many companies that offer up-to-date HJKC data for a monthly subscription, but this is, obviously, not worthwhile for this project. Outside of this paid data and running an extremely complicated API (that is often very sensitive to breaking day-to-day), there is an extremely limited pool of data that is free and easy-to-use.\n",
    "\n",
    "Upon scouring the web, I (almost accidentally) stumbled upon a user on GitHub by the username eprochasson who actually used to manage a public, web scraper for Hong Kong and Singapore horse racing. The user has not updated the data obtained from this scraper since 2019, but due to horse racing not really changing as a sport year-to-year (unlike sports like basketball, baseball, etc.), the receny of this data is more than suffcient for this project. The GitHub containing all this data can be found [here](https://github.com/eprochasson/horserace_data/tree/master).\n",
    "\n",
    "On this GitHub site, there are 6 different datasets that can accessed: dividends, horses, live_odds, performances, races, and sectional times. The divideneds and live odds datasets will be not be focused on in this project. Horses and performances will serve as the main sources of data for this project. The data dates backs all the way back to the early 1990s and goes through the middle of 2018. The horses dataset contains information on every horse that is raced in Hong Kong and Singapore, including information about their owners, jockey, its dame and sire (mother and father), and siblings. There are over 20,0000 observations (horses) in this dataset. There are overall 26 features in this dataset.\n",
    "\n",
    "A screenshot of the horses csv file (once it is unzipped from the gz file), can be found below:\n",
    "![Horses](../images/horses.png)\n",
    "\n",
    "The performances dataset captures every single performance by each of the horses in the horses dataset. Because of this relationship between the datasets, there are almost 400,000 observations in this datset. The datset captures 26 features, including the placement of the horse in the race, its starting draw, and data relating to how it ran all 4 sections of the track.\n",
    "\n",
    "A screenshot of the performances csv file (once it is unzipped from the gz file), can be found below:\n",
    "![Performances](../images/performances.png)\n",
    "\n",
    "\n",
    "Again, more of a description of the features of all these datasets will be discussed upon further completion of this web page.\n"
   ]
  }
 ],
 "metadata": {
  "kernelspec": {
   "display_name": "base",
   "language": "python",
   "name": "python3"
  },
  "language_info": {
   "name": "python",
   "version": "3.11.4"
  },
  "orig_nbformat": 4
 },
 "nbformat": 4,
 "nbformat_minor": 2
}
